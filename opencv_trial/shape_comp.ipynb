{
 "cells": [
  {
   "cell_type": "code",
   "execution_count": 130,
   "id": "fba44f5f-36fd-4cc8-b057-08da4f29caa2",
   "metadata": {},
   "outputs": [],
   "source": [
    "import cv2\n",
    "import numpy as np"
   ]
  },
  {
   "cell_type": "code",
   "execution_count": 131,
   "id": "de913ef6-1f99-4c0b-abe7-b7f22ae93ad9",
   "metadata": {},
   "outputs": [],
   "source": [
    "img1 = cv2.imread('/home/venkatesh/IMAGE_EMBED_POC/data_set/original/fb-original.PNG')\n",
    "img2 = cv2.imread('/home/venkatesh/IMAGE_EMBED_POC/data_set/ffake_fb.png')"
   ]
  },
  {
   "cell_type": "code",
   "execution_count": 132,
   "id": "27288031-34ea-4ec0-85ca-3e5c953dec2c",
   "metadata": {},
   "outputs": [],
   "source": [
    "img1 = cv2.resize(img1, (200,200))\n",
    "img2 = cv2.resize(img2, (200, 200))"
   ]
  },
  {
   "cell_type": "code",
   "execution_count": 133,
   "id": "75bc4bbf-31a9-4f96-8e21-4975e7db98ec",
   "metadata": {},
   "outputs": [],
   "source": [
    "gray1 = cv2.cvtColor(img1, cv2.COLOR_BGR2GRAY)\n",
    "gray2 = cv2.cvtColor(img2, cv2.COLOR_BGR2GRAY)"
   ]
  },
  {
   "cell_type": "code",
   "execution_count": 134,
   "id": "6962c10c-df98-4c78-bdb8-491c639d1df7",
   "metadata": {},
   "outputs": [
    {
     "data": {
      "text/plain": [
       "True"
      ]
     },
     "execution_count": 134,
     "metadata": {},
     "output_type": "execute_result"
    }
   ],
   "source": [
    "cv2.imwrite('/home/venkatesh/IMAGE_EMBED_POC/gray1.png', gray1)\n",
    "cv2.imwrite('/home/venkatesh/IMAGE_EMBED_POC/gray2.png', gray2)"
   ]
  },
  {
   "cell_type": "code",
   "execution_count": 135,
   "id": "5838e4dd-4a8e-43c5-9b02-6db2fd555a96",
   "metadata": {},
   "outputs": [],
   "source": [
    "_, threshold1 = cv2.threshold(gray1, 127, 255, cv2.THRESH_BINARY) \n",
    "_, threshold2 = cv2.threshold(gray2, 127, 255, cv2.THRESH_BINARY) "
   ]
  },
  {
   "cell_type": "code",
   "execution_count": 136,
   "id": "f6e78575-a0d7-46ee-bd2b-d979448a6ad8",
   "metadata": {},
   "outputs": [],
   "source": [
    "contours1, _ = cv2.findContours( \n",
    "    threshold1, cv2.RETR_TREE, cv2.CHAIN_APPROX_SIMPLE)\n",
    "contours2, _ = cv2.findContours( \n",
    "    threshold2, cv2.RETR_TREE, cv2.CHAIN_APPROX_SIMPLE) "
   ]
  },
  {
   "cell_type": "code",
   "execution_count": null,
   "id": "ee4d1254-b54d-4eae-94b9-505e02c11e4d",
   "metadata": {},
   "outputs": [],
   "source": []
  },
  {
   "cell_type": "code",
   "execution_count": 137,
   "id": "6dfb8abe-5020-4e92-a48c-816a7122ae46",
   "metadata": {},
   "outputs": [
    {
     "name": "stdout",
     "output_type": "stream",
     "text": [
      "53826.0\n",
      "7552.0\n",
      "difference 46274.0\n"
     ]
    }
   ],
   "source": [
    "area_of_contour1 = 0\n",
    "area_of_contour2 = 0\n",
    "for contour in contours1: \n",
    "    cv2.drawContours(img1, [contour], 0, (0, 0, 255), 3)\n",
    "    area_of_contour1 += cv2.contourArea(contour)\n",
    "print(area_of_contour1)\n",
    "\n",
    "for contour in contours2:\n",
    "    cv2.drawContours(img2, [contour], 0, (0, 0, 255), 3)\n",
    "    area_of_contour2 += cv2.contourArea(contour)\n",
    "print(area_of_contour2)\n",
    "\n",
    "print('difference', area_of_contour1 - area_of_contour2)"
   ]
  },
  {
   "cell_type": "code",
   "execution_count": 138,
   "id": "5e64f176-bb74-4b21-b445-26a99c6313a7",
   "metadata": {},
   "outputs": [
    {
     "data": {
      "text/plain": [
       "True"
      ]
     },
     "execution_count": 138,
     "metadata": {},
     "output_type": "execute_result"
    }
   ],
   "source": [
    "cv2.imwrite('/home/venkatesh/IMAGE_EMBED_POC/contour1.png', img1)\n",
    "cv2.imwrite('/home/venkatesh/IMAGE_EMBED_POC/contour2.png', img2)"
   ]
  },
  {
   "cell_type": "code",
   "execution_count": 139,
   "id": "c46cf0a7-0ba7-43eb-829d-1d156d65fe24",
   "metadata": {},
   "outputs": [],
   "source": [
    "import pytesseract"
   ]
  },
  {
   "cell_type": "code",
   "execution_count": null,
   "id": "1da509b4-4608-4b92-9f2e-6879e3cd07fc",
   "metadata": {},
   "outputs": [],
   "source": []
  }
 ],
 "metadata": {
  "kernelspec": {
   "display_name": "Python 3 (ipykernel)",
   "language": "python",
   "name": "python3"
  },
  "language_info": {
   "codemirror_mode": {
    "name": "ipython",
    "version": 3
   },
   "file_extension": ".py",
   "mimetype": "text/x-python",
   "name": "python",
   "nbconvert_exporter": "python",
   "pygments_lexer": "ipython3",
   "version": "3.11.5"
  }
 },
 "nbformat": 4,
 "nbformat_minor": 5
}
